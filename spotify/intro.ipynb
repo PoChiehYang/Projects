{
 "cells": [
  {
   "cell_type": "markdown",
   "id": "9a8dfd14",
   "metadata": {},
   "source": [
    "# Final Project Main Report: \n",
    "\n",
    "## Introduction\n",
    "\n",
    "For this project, I approached the analysis as a regression problem, treating track_popularity as a continuous outcome variable. This decision was based on the natural structure of the data and the desire to model subtle variation in popularity scores rather than collapsing the problem into binary or multi-class categories.\n",
    "\n",
    "## Major Findings\n",
    "\n",
    "Throughout the project, I identified several important patterns:\n",
    "\n",
    "Energy, valence, and playlist_genre emerged as the most influential features in predicting track popularity.\n",
    "\n",
    "These conclusions were supported through multiple steps:\n",
    "\n",
    "In the regression models, energy and valence consistently appeared as statistically significant predictors, and their interaction with genre influenced the effect direction and magnitude.\n",
    "\n",
    "The EDA also indicated that higher-energy and higher-valence tracks were more common in genres like pop and EDM, aligning with higher popularity scores.\n",
    "\n",
    "The clustering analysis grouped tracks with similar energy, loudness, and instrumentalness levels. Clusters aligned broadly with genre and popularity patterns, especially where high-energy or instrumental clusters corresponded to niche or low-popularity tracks.\n",
    "\n",
    "## Role of Modeling and EDA\n",
    "\n",
    "While predictive modeling confirmed feature significance and interactions, EDA played an essential complementary role:\n",
    "\n",
    "Histograms and boxplots revealed skewed distributions and heterogeneity in inputs like speechiness and instrumentalness, guiding necessary transformations.\n",
    "\n",
    "Pair plots and group summaries hinted at relationships between features and the target, which modeling later confirmed and refined.\n",
    "\n",
    "Clustering results were also consistent with model outcomes in several areas. For example, the genre clusters with high energy and low valence were distinct from low-energy, high-acousticness groups—an observation that matched patterns in interaction models.\n",
    "\n",
    "## Skills Gained\n",
    "\n",
    "Technical skills with Python, statsmodels, and visualization libraries, this project helped strengthen:\n",
    "\n",
    "Structured model building: From intercept-only to interaction-heavy models, I learned how to build and evaluate increasingly complex formulations.\n",
    "\n",
    "Cross-validation and validation logic: I understood the limitations of training-set performance and applied K-fold CV to assess model generalization.\n",
    "\n",
    "Data transformation and feature engineering: Handling skewed variables and constructing polynomial and interaction terms was key to improving model performance.\n",
    "\n",
    "Analytical thinking: Interpreting model outputs in the context of real-world music data, validating insights across EDA, modeling, and clustering was helpful for developing applied data intuition.\n",
    "\n",
    "These skills directly strengthned my interest in applied analytics for consumer-facing tech products, where understanding and modeling behavioral signals is crucial."
   ]
  }
 ],
 "metadata": {
  "kernelspec": {
   "display_name": "Python 3 (ipykernel)",
   "language": "python",
   "name": "python3"
  },
  "language_info": {
   "codemirror_mode": {
    "name": "ipython",
    "version": 3
   },
   "file_extension": ".py",
   "mimetype": "text/x-python",
   "name": "python",
   "nbconvert_exporter": "python",
   "pygments_lexer": "ipython3",
   "version": "3.11.6"
  }
 },
 "nbformat": 4,
 "nbformat_minor": 5
}
